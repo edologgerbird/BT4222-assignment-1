{
 "cells": [
  {
   "cell_type": "markdown",
   "source": [
    "# BT4222 Assignment 1\r\n",
    "\r\n",
    "Author: Loh Hong Tak Edmund\r\n",
    "\r\n",
    "Version: 1.0"
   ],
   "metadata": {}
  },
  {
   "cell_type": "code",
   "execution_count": null,
   "source": [],
   "outputs": [],
   "metadata": {}
  }
 ],
 "metadata": {
  "orig_nbformat": 4,
  "language_info": {
   "name": "python"
  }
 },
 "nbformat": 4,
 "nbformat_minor": 2
}