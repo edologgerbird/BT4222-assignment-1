{
 "cells": [
  {
   "cell_type": "markdown",
   "source": [
    "# BT4222 Assignment 1\r\n",
    "\r\n",
    "Author: Loh Hong Tak Edmund\r\n",
    "\r\n",
    "Python Version: 3.8.5"
   ],
   "metadata": {}
  },
  {
   "cell_type": "code",
   "execution_count": 52,
   "source": [
    "# Loading Packages\r\n",
    "\r\n",
    "# EDA\r\n",
    "import pandas as pd\r\n",
    "import matplotlib.pyplot as plt\r\n",
    "import plotly.express as px\r\n",
    "import numpy as np\r\n",
    "\r\n",
    "# Machine Learning\r\n",
    "from sklearn import metrics, cluster\r\n",
    "from sklearn.model_selection import train_test_split\r\n",
    "from sklearn.linear_model import LogisticRegression\r\n",
    "from sklearn.feature_selection import RFE\r\n",
    "from sklearn.metrics import accuracy_score, classification_report, confusion_matrix,  roc_curve, auc, log_loss \r\n",
    "from sklearn.svm import LinearSVC, SVC\r\n",
    "from sklearn.preprocessing import MinMaxScaler\r\n",
    "from sklearn.ensemble import AdaBoostClassifier\r\n",
    "from sklearn.model_selection import RepeatedStratifiedKFold\r\n",
    "from sklearn.model_selection import GridSearchCV\r\n",
    "\r\n",
    "\r\n",
    "# Settings\r\n",
    "import string\r\n",
    "import itertools"
   ],
   "outputs": [],
   "metadata": {}
  },
  {
   "cell_type": "markdown",
   "source": [
    "## Helper Functions"
   ],
   "metadata": {}
  },
  {
   "cell_type": "code",
   "execution_count": 2,
   "source": [
    "def getRFEfeatures(model, x, y, n_features_to_select):\r\n",
    "    rfe = RFE(model, n_features_to_select)\r\n",
    "    rfe = rfe.fit(x,y)\r\n",
    "    selected_features = list(x.columns[rfe.support_])\r\n",
    "    print('Selected features: %s' % selected_features)\r\n",
    "    return selected_features\r\n",
    "\r\n",
    "def get_auc(model, x, y):\r\n",
    "    y_pred_proba = model.predict_proba(x)[:,1]\r\n",
    "    print(y_pred_proba)\r\n",
    "    [fpr, tpr, thr] = roc_curve(y, y_pred_proba)\r\n",
    "    return auc(fpr, tpr)\r\n",
    "\r\n",
    "def get_logloss(model, x, y):\r\n",
    "    y_pred_proba = model.predict_proba(x)[:,1]\r\n",
    "    return log_loss(y, y_pred_proba)\r\n",
    "\r\n",
    "def print_train_score(model, x_train, y_train, auc=True):\r\n",
    "    pred = model.predict(x_train)\r\n",
    "    model_report = pd.DataFrame(classification_report(y_train, pred, output_dict=True))\r\n",
    "    print(\"Train Result:\\n================================================\")\r\n",
    "    print(f\"Accuracy Score: {accuracy_score(y_train, pred) * 100:.2f}%\")\r\n",
    "    print(\"_______________________________________________\")\r\n",
    "    print(f\"CLASSIFICATION REPORT:\\n{model_report}\")\r\n",
    "    print(\"_______________________________________________\")\r\n",
    "    print(f\"Confusion Matrix: \\n {confusion_matrix(y_train, pred)}\\n\")\r\n",
    "    if auc:\r\n",
    "        print(\"_______________________________________________\")\r\n",
    "        print(f\"AUC Score: \\n {get_auc(model, x_train, y_train)}\\n\")\r\n",
    "    \r\n",
    "\r\n",
    "def print_test_score(model, x_test, y_test, auc=True):\r\n",
    "    pred = model.predict(x_test)\r\n",
    "    model_report = pd.DataFrame(classification_report(y_test, pred, output_dict=True))\r\n",
    "    print(\"Test Result:\\n================================================\")\r\n",
    "    print(f\"Accuracy Score: {accuracy_score(y_test, pred) * 100:.2f}%\")\r\n",
    "    print(\"_______________________________________________\")\r\n",
    "    print(f\"CLASSIFICATION REPORT:\\n{model_report}\")\r\n",
    "    print(\"_______________________________________________\")\r\n",
    "    print(f\"Confusion Matrix: \\n {confusion_matrix(y_test, pred)}\\n\")\r\n",
    "    if auc:\r\n",
    "        print(\"_______________________________________________\")\r\n",
    "        print(f\"AUC Score: \\n {get_auc(model, x_test, y_test)}\\n\")    "
   ],
   "outputs": [],
   "metadata": {}
  },
  {
   "cell_type": "markdown",
   "source": [
    "## Importing Datasets"
   ],
   "metadata": {}
  },
  {
   "cell_type": "code",
   "execution_count": 3,
   "source": [
    "# Import data\r\n",
    "\r\n",
    "df = pd.read_csv('train.csv')\r\n",
    "test = pd.read_csv('test.csv')"
   ],
   "outputs": [],
   "metadata": {}
  },
  {
   "cell_type": "markdown",
   "source": [
    "## Exploratory Data Analysis"
   ],
   "metadata": {}
  },
  {
   "cell_type": "code",
   "execution_count": 4,
   "source": [
    "df.head()"
   ],
   "outputs": [
    {
     "output_type": "execute_result",
     "data": {
      "text/plain": [
       "   index  age                 race      sex      education   f1    f2   f3  \\\n",
       "0      1   26                White     Male   Some-college  a_2   b_4  c_0   \n",
       "1      2   35                White     Male   Some-college  a_2   b_3  c_0   \n",
       "2      3   61                White     Male        HS-grad  a_2  b_12  c_0   \n",
       "3      4   48   Asian-Pac-Islander   Female      Bachelors  a_5   b_1  c_4   \n",
       "4      5   20                White     Male   Some-college  a_4   b_6  c_3   \n",
       "\n",
       "     f4   f5      f6  f7  f8    f9  f10  y  \n",
       "0  d_39  e_4   53833  10   0     0   42  0  \n",
       "1  d_39  e_4   67728  10   0  2051   45  0  \n",
       "2  d_39  e_6  268831   9   0     0   53  0  \n",
       "3  d_30  e_4  238360  13   0     0   40  0  \n",
       "4  d_39  e_4  199011  10   0     0   12  0  "
      ],
      "text/html": [
       "<div>\n",
       "<style scoped>\n",
       "    .dataframe tbody tr th:only-of-type {\n",
       "        vertical-align: middle;\n",
       "    }\n",
       "\n",
       "    .dataframe tbody tr th {\n",
       "        vertical-align: top;\n",
       "    }\n",
       "\n",
       "    .dataframe thead th {\n",
       "        text-align: right;\n",
       "    }\n",
       "</style>\n",
       "<table border=\"1\" class=\"dataframe\">\n",
       "  <thead>\n",
       "    <tr style=\"text-align: right;\">\n",
       "      <th></th>\n",
       "      <th>index</th>\n",
       "      <th>age</th>\n",
       "      <th>race</th>\n",
       "      <th>sex</th>\n",
       "      <th>education</th>\n",
       "      <th>f1</th>\n",
       "      <th>f2</th>\n",
       "      <th>f3</th>\n",
       "      <th>f4</th>\n",
       "      <th>f5</th>\n",
       "      <th>f6</th>\n",
       "      <th>f7</th>\n",
       "      <th>f8</th>\n",
       "      <th>f9</th>\n",
       "      <th>f10</th>\n",
       "      <th>y</th>\n",
       "    </tr>\n",
       "  </thead>\n",
       "  <tbody>\n",
       "    <tr>\n",
       "      <th>0</th>\n",
       "      <td>1</td>\n",
       "      <td>26</td>\n",
       "      <td>White</td>\n",
       "      <td>Male</td>\n",
       "      <td>Some-college</td>\n",
       "      <td>a_2</td>\n",
       "      <td>b_4</td>\n",
       "      <td>c_0</td>\n",
       "      <td>d_39</td>\n",
       "      <td>e_4</td>\n",
       "      <td>53833</td>\n",
       "      <td>10</td>\n",
       "      <td>0</td>\n",
       "      <td>0</td>\n",
       "      <td>42</td>\n",
       "      <td>0</td>\n",
       "    </tr>\n",
       "    <tr>\n",
       "      <th>1</th>\n",
       "      <td>2</td>\n",
       "      <td>35</td>\n",
       "      <td>White</td>\n",
       "      <td>Male</td>\n",
       "      <td>Some-college</td>\n",
       "      <td>a_2</td>\n",
       "      <td>b_3</td>\n",
       "      <td>c_0</td>\n",
       "      <td>d_39</td>\n",
       "      <td>e_4</td>\n",
       "      <td>67728</td>\n",
       "      <td>10</td>\n",
       "      <td>0</td>\n",
       "      <td>2051</td>\n",
       "      <td>45</td>\n",
       "      <td>0</td>\n",
       "    </tr>\n",
       "    <tr>\n",
       "      <th>2</th>\n",
       "      <td>3</td>\n",
       "      <td>61</td>\n",
       "      <td>White</td>\n",
       "      <td>Male</td>\n",
       "      <td>HS-grad</td>\n",
       "      <td>a_2</td>\n",
       "      <td>b_12</td>\n",
       "      <td>c_0</td>\n",
       "      <td>d_39</td>\n",
       "      <td>e_6</td>\n",
       "      <td>268831</td>\n",
       "      <td>9</td>\n",
       "      <td>0</td>\n",
       "      <td>0</td>\n",
       "      <td>53</td>\n",
       "      <td>0</td>\n",
       "    </tr>\n",
       "    <tr>\n",
       "      <th>3</th>\n",
       "      <td>4</td>\n",
       "      <td>48</td>\n",
       "      <td>Asian-Pac-Islander</td>\n",
       "      <td>Female</td>\n",
       "      <td>Bachelors</td>\n",
       "      <td>a_5</td>\n",
       "      <td>b_1</td>\n",
       "      <td>c_4</td>\n",
       "      <td>d_30</td>\n",
       "      <td>e_4</td>\n",
       "      <td>238360</td>\n",
       "      <td>13</td>\n",
       "      <td>0</td>\n",
       "      <td>0</td>\n",
       "      <td>40</td>\n",
       "      <td>0</td>\n",
       "    </tr>\n",
       "    <tr>\n",
       "      <th>4</th>\n",
       "      <td>5</td>\n",
       "      <td>20</td>\n",
       "      <td>White</td>\n",
       "      <td>Male</td>\n",
       "      <td>Some-college</td>\n",
       "      <td>a_4</td>\n",
       "      <td>b_6</td>\n",
       "      <td>c_3</td>\n",
       "      <td>d_39</td>\n",
       "      <td>e_4</td>\n",
       "      <td>199011</td>\n",
       "      <td>10</td>\n",
       "      <td>0</td>\n",
       "      <td>0</td>\n",
       "      <td>12</td>\n",
       "      <td>0</td>\n",
       "    </tr>\n",
       "  </tbody>\n",
       "</table>\n",
       "</div>"
      ]
     },
     "metadata": {},
     "execution_count": 4
    }
   ],
   "metadata": {}
  },
  {
   "cell_type": "code",
   "execution_count": 5,
   "source": [
    "test.head()"
   ],
   "outputs": [
    {
     "output_type": "execute_result",
     "data": {
      "text/plain": [
       "   index  age    race      sex      education   f1   f2   f3    f4   f5  \\\n",
       "0      1   39   White     Male        HS-grad  a_2  b_3  c_0  d_39  e_4   \n",
       "1      2   56   White     Male   Some-college  a_2  b_0  c_0  d_27  e_0   \n",
       "2      3   17   White     Male           12th  a_4  b_0  c_3  d_39  e_0   \n",
       "3      4   58   White   Female        HS-grad  a_6  b_1  c_4  d_39  e_4   \n",
       "4      5   59   White     Male      Bachelors  a_4  b_1  c_1  d_39  e_2   \n",
       "\n",
       "       f6  f7  f8  f9  f10  \n",
       "0  366757   9   0   0   35  \n",
       "1  275943  10   0   0   40  \n",
       "2  103810   8   0   0   40  \n",
       "3  151910   9   0   0   40  \n",
       "4  161944  13   0   0   38  "
      ],
      "text/html": [
       "<div>\n",
       "<style scoped>\n",
       "    .dataframe tbody tr th:only-of-type {\n",
       "        vertical-align: middle;\n",
       "    }\n",
       "\n",
       "    .dataframe tbody tr th {\n",
       "        vertical-align: top;\n",
       "    }\n",
       "\n",
       "    .dataframe thead th {\n",
       "        text-align: right;\n",
       "    }\n",
       "</style>\n",
       "<table border=\"1\" class=\"dataframe\">\n",
       "  <thead>\n",
       "    <tr style=\"text-align: right;\">\n",
       "      <th></th>\n",
       "      <th>index</th>\n",
       "      <th>age</th>\n",
       "      <th>race</th>\n",
       "      <th>sex</th>\n",
       "      <th>education</th>\n",
       "      <th>f1</th>\n",
       "      <th>f2</th>\n",
       "      <th>f3</th>\n",
       "      <th>f4</th>\n",
       "      <th>f5</th>\n",
       "      <th>f6</th>\n",
       "      <th>f7</th>\n",
       "      <th>f8</th>\n",
       "      <th>f9</th>\n",
       "      <th>f10</th>\n",
       "    </tr>\n",
       "  </thead>\n",
       "  <tbody>\n",
       "    <tr>\n",
       "      <th>0</th>\n",
       "      <td>1</td>\n",
       "      <td>39</td>\n",
       "      <td>White</td>\n",
       "      <td>Male</td>\n",
       "      <td>HS-grad</td>\n",
       "      <td>a_2</td>\n",
       "      <td>b_3</td>\n",
       "      <td>c_0</td>\n",
       "      <td>d_39</td>\n",
       "      <td>e_4</td>\n",
       "      <td>366757</td>\n",
       "      <td>9</td>\n",
       "      <td>0</td>\n",
       "      <td>0</td>\n",
       "      <td>35</td>\n",
       "    </tr>\n",
       "    <tr>\n",
       "      <th>1</th>\n",
       "      <td>2</td>\n",
       "      <td>56</td>\n",
       "      <td>White</td>\n",
       "      <td>Male</td>\n",
       "      <td>Some-college</td>\n",
       "      <td>a_2</td>\n",
       "      <td>b_0</td>\n",
       "      <td>c_0</td>\n",
       "      <td>d_27</td>\n",
       "      <td>e_0</td>\n",
       "      <td>275943</td>\n",
       "      <td>10</td>\n",
       "      <td>0</td>\n",
       "      <td>0</td>\n",
       "      <td>40</td>\n",
       "    </tr>\n",
       "    <tr>\n",
       "      <th>2</th>\n",
       "      <td>3</td>\n",
       "      <td>17</td>\n",
       "      <td>White</td>\n",
       "      <td>Male</td>\n",
       "      <td>12th</td>\n",
       "      <td>a_4</td>\n",
       "      <td>b_0</td>\n",
       "      <td>c_3</td>\n",
       "      <td>d_39</td>\n",
       "      <td>e_0</td>\n",
       "      <td>103810</td>\n",
       "      <td>8</td>\n",
       "      <td>0</td>\n",
       "      <td>0</td>\n",
       "      <td>40</td>\n",
       "    </tr>\n",
       "    <tr>\n",
       "      <th>3</th>\n",
       "      <td>4</td>\n",
       "      <td>58</td>\n",
       "      <td>White</td>\n",
       "      <td>Female</td>\n",
       "      <td>HS-grad</td>\n",
       "      <td>a_6</td>\n",
       "      <td>b_1</td>\n",
       "      <td>c_4</td>\n",
       "      <td>d_39</td>\n",
       "      <td>e_4</td>\n",
       "      <td>151910</td>\n",
       "      <td>9</td>\n",
       "      <td>0</td>\n",
       "      <td>0</td>\n",
       "      <td>40</td>\n",
       "    </tr>\n",
       "    <tr>\n",
       "      <th>4</th>\n",
       "      <td>5</td>\n",
       "      <td>59</td>\n",
       "      <td>White</td>\n",
       "      <td>Male</td>\n",
       "      <td>Bachelors</td>\n",
       "      <td>a_4</td>\n",
       "      <td>b_1</td>\n",
       "      <td>c_1</td>\n",
       "      <td>d_39</td>\n",
       "      <td>e_2</td>\n",
       "      <td>161944</td>\n",
       "      <td>13</td>\n",
       "      <td>0</td>\n",
       "      <td>0</td>\n",
       "      <td>38</td>\n",
       "    </tr>\n",
       "  </tbody>\n",
       "</table>\n",
       "</div>"
      ]
     },
     "metadata": {},
     "execution_count": 5
    }
   ],
   "metadata": {}
  },
  {
   "cell_type": "code",
   "execution_count": 6,
   "source": [
    "df.info()"
   ],
   "outputs": [
    {
     "output_type": "stream",
     "name": "stdout",
     "text": [
      "<class 'pandas.core.frame.DataFrame'>\n",
      "RangeIndex: 26561 entries, 0 to 26560\n",
      "Data columns (total 16 columns):\n",
      " #   Column     Non-Null Count  Dtype \n",
      "---  ------     --------------  ----- \n",
      " 0   index      26561 non-null  int64 \n",
      " 1   age        26561 non-null  int64 \n",
      " 2   race       26561 non-null  object\n",
      " 3   sex        26561 non-null  object\n",
      " 4   education  26561 non-null  object\n",
      " 5   f1         26561 non-null  object\n",
      " 6   f2         26561 non-null  object\n",
      " 7   f3         26561 non-null  object\n",
      " 8   f4         26561 non-null  object\n",
      " 9   f5         26561 non-null  object\n",
      " 10  f6         26561 non-null  int64 \n",
      " 11  f7         26561 non-null  int64 \n",
      " 12  f8         26561 non-null  int64 \n",
      " 13  f9         26561 non-null  int64 \n",
      " 14  f10        26561 non-null  int64 \n",
      " 15  y          26561 non-null  int64 \n",
      "dtypes: int64(8), object(8)\n",
      "memory usage: 3.2+ MB\n"
     ]
    }
   ],
   "metadata": {}
  },
  {
   "cell_type": "code",
   "execution_count": 7,
   "source": [
    "test.info()"
   ],
   "outputs": [
    {
     "output_type": "stream",
     "name": "stdout",
     "text": [
      "<class 'pandas.core.frame.DataFrame'>\n",
      "RangeIndex: 6000 entries, 0 to 5999\n",
      "Data columns (total 15 columns):\n",
      " #   Column     Non-Null Count  Dtype \n",
      "---  ------     --------------  ----- \n",
      " 0   index      6000 non-null   int64 \n",
      " 1   age        6000 non-null   int64 \n",
      " 2   race       6000 non-null   object\n",
      " 3   sex        6000 non-null   object\n",
      " 4   education  6000 non-null   object\n",
      " 5   f1         6000 non-null   object\n",
      " 6   f2         6000 non-null   object\n",
      " 7   f3         6000 non-null   object\n",
      " 8   f4         6000 non-null   object\n",
      " 9   f5         6000 non-null   object\n",
      " 10  f6         6000 non-null   int64 \n",
      " 11  f7         6000 non-null   int64 \n",
      " 12  f8         6000 non-null   int64 \n",
      " 13  f9         6000 non-null   int64 \n",
      " 14  f10        6000 non-null   int64 \n",
      "dtypes: int64(7), object(8)\n",
      "memory usage: 703.2+ KB\n"
     ]
    }
   ],
   "metadata": {}
  },
  {
   "cell_type": "code",
   "execution_count": 8,
   "source": [
    "df.describe()"
   ],
   "outputs": [
    {
     "output_type": "execute_result",
     "data": {
      "text/plain": [
       "              index           age            f6            f7            f8  \\\n",
       "count  26561.000000  26561.000000  2.656100e+04  26561.000000  26561.000000   \n",
       "mean   13281.000000     38.610933  1.902328e+05     10.073981   1070.548662   \n",
       "std     7667.644586     13.671748  1.056464e+05      2.573905   7320.365123   \n",
       "min        1.000000     17.000000  1.228500e+04      1.000000      0.000000   \n",
       "25%     6641.000000     28.000000  1.183990e+05      9.000000      0.000000   \n",
       "50%    13281.000000     37.000000  1.783830e+05     10.000000      0.000000   \n",
       "75%    19921.000000     48.000000  2.376700e+05     12.000000      0.000000   \n",
       "max    26561.000000     90.000000  1.484705e+06     16.000000  99999.000000   \n",
       "\n",
       "                 f9           f10             y  \n",
       "count  26561.000000  26561.000000  26561.000000  \n",
       "mean      87.575129     40.488573      0.239712  \n",
       "std      404.081775     12.358773      0.426916  \n",
       "min        0.000000      1.000000      0.000000  \n",
       "25%        0.000000     40.000000      0.000000  \n",
       "50%        0.000000     40.000000      0.000000  \n",
       "75%        0.000000     45.000000      0.000000  \n",
       "max     4356.000000     99.000000      1.000000  "
      ],
      "text/html": [
       "<div>\n",
       "<style scoped>\n",
       "    .dataframe tbody tr th:only-of-type {\n",
       "        vertical-align: middle;\n",
       "    }\n",
       "\n",
       "    .dataframe tbody tr th {\n",
       "        vertical-align: top;\n",
       "    }\n",
       "\n",
       "    .dataframe thead th {\n",
       "        text-align: right;\n",
       "    }\n",
       "</style>\n",
       "<table border=\"1\" class=\"dataframe\">\n",
       "  <thead>\n",
       "    <tr style=\"text-align: right;\">\n",
       "      <th></th>\n",
       "      <th>index</th>\n",
       "      <th>age</th>\n",
       "      <th>f6</th>\n",
       "      <th>f7</th>\n",
       "      <th>f8</th>\n",
       "      <th>f9</th>\n",
       "      <th>f10</th>\n",
       "      <th>y</th>\n",
       "    </tr>\n",
       "  </thead>\n",
       "  <tbody>\n",
       "    <tr>\n",
       "      <th>count</th>\n",
       "      <td>26561.000000</td>\n",
       "      <td>26561.000000</td>\n",
       "      <td>2.656100e+04</td>\n",
       "      <td>26561.000000</td>\n",
       "      <td>26561.000000</td>\n",
       "      <td>26561.000000</td>\n",
       "      <td>26561.000000</td>\n",
       "      <td>26561.000000</td>\n",
       "    </tr>\n",
       "    <tr>\n",
       "      <th>mean</th>\n",
       "      <td>13281.000000</td>\n",
       "      <td>38.610933</td>\n",
       "      <td>1.902328e+05</td>\n",
       "      <td>10.073981</td>\n",
       "      <td>1070.548662</td>\n",
       "      <td>87.575129</td>\n",
       "      <td>40.488573</td>\n",
       "      <td>0.239712</td>\n",
       "    </tr>\n",
       "    <tr>\n",
       "      <th>std</th>\n",
       "      <td>7667.644586</td>\n",
       "      <td>13.671748</td>\n",
       "      <td>1.056464e+05</td>\n",
       "      <td>2.573905</td>\n",
       "      <td>7320.365123</td>\n",
       "      <td>404.081775</td>\n",
       "      <td>12.358773</td>\n",
       "      <td>0.426916</td>\n",
       "    </tr>\n",
       "    <tr>\n",
       "      <th>min</th>\n",
       "      <td>1.000000</td>\n",
       "      <td>17.000000</td>\n",
       "      <td>1.228500e+04</td>\n",
       "      <td>1.000000</td>\n",
       "      <td>0.000000</td>\n",
       "      <td>0.000000</td>\n",
       "      <td>1.000000</td>\n",
       "      <td>0.000000</td>\n",
       "    </tr>\n",
       "    <tr>\n",
       "      <th>25%</th>\n",
       "      <td>6641.000000</td>\n",
       "      <td>28.000000</td>\n",
       "      <td>1.183990e+05</td>\n",
       "      <td>9.000000</td>\n",
       "      <td>0.000000</td>\n",
       "      <td>0.000000</td>\n",
       "      <td>40.000000</td>\n",
       "      <td>0.000000</td>\n",
       "    </tr>\n",
       "    <tr>\n",
       "      <th>50%</th>\n",
       "      <td>13281.000000</td>\n",
       "      <td>37.000000</td>\n",
       "      <td>1.783830e+05</td>\n",
       "      <td>10.000000</td>\n",
       "      <td>0.000000</td>\n",
       "      <td>0.000000</td>\n",
       "      <td>40.000000</td>\n",
       "      <td>0.000000</td>\n",
       "    </tr>\n",
       "    <tr>\n",
       "      <th>75%</th>\n",
       "      <td>19921.000000</td>\n",
       "      <td>48.000000</td>\n",
       "      <td>2.376700e+05</td>\n",
       "      <td>12.000000</td>\n",
       "      <td>0.000000</td>\n",
       "      <td>0.000000</td>\n",
       "      <td>45.000000</td>\n",
       "      <td>0.000000</td>\n",
       "    </tr>\n",
       "    <tr>\n",
       "      <th>max</th>\n",
       "      <td>26561.000000</td>\n",
       "      <td>90.000000</td>\n",
       "      <td>1.484705e+06</td>\n",
       "      <td>16.000000</td>\n",
       "      <td>99999.000000</td>\n",
       "      <td>4356.000000</td>\n",
       "      <td>99.000000</td>\n",
       "      <td>1.000000</td>\n",
       "    </tr>\n",
       "  </tbody>\n",
       "</table>\n",
       "</div>"
      ]
     },
     "metadata": {},
     "execution_count": 8
    }
   ],
   "metadata": {}
  },
  {
   "cell_type": "code",
   "execution_count": 9,
   "source": [
    "df = df.drop('index', axis=1)"
   ],
   "outputs": [],
   "metadata": {}
  },
  {
   "cell_type": "code",
   "execution_count": 10,
   "source": [
    "for col in df.columns:\r\n",
    "    fig = px.histogram(df, x=col,  title=\"Histogram of \"+str(col))\r\n",
    "    #fig.show()"
   ],
   "outputs": [],
   "metadata": {}
  },
  {
   "cell_type": "markdown",
   "source": [
    "## Converting all categorical variable to dummy variables"
   ],
   "metadata": {}
  },
  {
   "cell_type": "code",
   "execution_count": 11,
   "source": [
    "for col in df.columns:\r\n",
    "    if df[col].dtypes == object:\r\n",
    "        dummy = pd.get_dummies(df[col])\r\n",
    "        df = df.drop(col,axis=1)\r\n",
    "        df = pd.concat([df,dummy], axis=1)\r\n",
    "\r\n",
    "df.head()\r\n",
    "        "
   ],
   "outputs": [
    {
     "output_type": "execute_result",
     "data": {
      "text/plain": [
       "   age      f6  f7  f8    f9  f10  y   Amer-Indian-Eskimo  \\\n",
       "0   26   53833  10   0     0   42  0                    0   \n",
       "1   35   67728  10   0  2051   45  0                    0   \n",
       "2   61  268831   9   0     0   53  0                    0   \n",
       "3   48  238360  13   0     0   40  0                    0   \n",
       "4   20  199011  10   0     0   12  0                    0   \n",
       "\n",
       "    Asian-Pac-Islander   Black  ...  d_9  e_0  e_1  e_2  e_3  e_4  e_5  e_6  \\\n",
       "0                    0       0  ...    0    0    0    0    0    1    0    0   \n",
       "1                    0       0  ...    0    0    0    0    0    1    0    0   \n",
       "2                    0       0  ...    0    0    0    0    0    0    0    1   \n",
       "3                    1       0  ...    0    0    0    0    0    1    0    0   \n",
       "4                    0       0  ...    0    0    0    0    0    1    0    0   \n",
       "\n",
       "   e_7  e_8  \n",
       "0    0    0  \n",
       "1    0    0  \n",
       "2    0    0  \n",
       "3    0    0  \n",
       "4    0    0  \n",
       "\n",
       "[5 rows x 108 columns]"
      ],
      "text/html": [
       "<div>\n",
       "<style scoped>\n",
       "    .dataframe tbody tr th:only-of-type {\n",
       "        vertical-align: middle;\n",
       "    }\n",
       "\n",
       "    .dataframe tbody tr th {\n",
       "        vertical-align: top;\n",
       "    }\n",
       "\n",
       "    .dataframe thead th {\n",
       "        text-align: right;\n",
       "    }\n",
       "</style>\n",
       "<table border=\"1\" class=\"dataframe\">\n",
       "  <thead>\n",
       "    <tr style=\"text-align: right;\">\n",
       "      <th></th>\n",
       "      <th>age</th>\n",
       "      <th>f6</th>\n",
       "      <th>f7</th>\n",
       "      <th>f8</th>\n",
       "      <th>f9</th>\n",
       "      <th>f10</th>\n",
       "      <th>y</th>\n",
       "      <th>Amer-Indian-Eskimo</th>\n",
       "      <th>Asian-Pac-Islander</th>\n",
       "      <th>Black</th>\n",
       "      <th>...</th>\n",
       "      <th>d_9</th>\n",
       "      <th>e_0</th>\n",
       "      <th>e_1</th>\n",
       "      <th>e_2</th>\n",
       "      <th>e_3</th>\n",
       "      <th>e_4</th>\n",
       "      <th>e_5</th>\n",
       "      <th>e_6</th>\n",
       "      <th>e_7</th>\n",
       "      <th>e_8</th>\n",
       "    </tr>\n",
       "  </thead>\n",
       "  <tbody>\n",
       "    <tr>\n",
       "      <th>0</th>\n",
       "      <td>26</td>\n",
       "      <td>53833</td>\n",
       "      <td>10</td>\n",
       "      <td>0</td>\n",
       "      <td>0</td>\n",
       "      <td>42</td>\n",
       "      <td>0</td>\n",
       "      <td>0</td>\n",
       "      <td>0</td>\n",
       "      <td>0</td>\n",
       "      <td>...</td>\n",
       "      <td>0</td>\n",
       "      <td>0</td>\n",
       "      <td>0</td>\n",
       "      <td>0</td>\n",
       "      <td>0</td>\n",
       "      <td>1</td>\n",
       "      <td>0</td>\n",
       "      <td>0</td>\n",
       "      <td>0</td>\n",
       "      <td>0</td>\n",
       "    </tr>\n",
       "    <tr>\n",
       "      <th>1</th>\n",
       "      <td>35</td>\n",
       "      <td>67728</td>\n",
       "      <td>10</td>\n",
       "      <td>0</td>\n",
       "      <td>2051</td>\n",
       "      <td>45</td>\n",
       "      <td>0</td>\n",
       "      <td>0</td>\n",
       "      <td>0</td>\n",
       "      <td>0</td>\n",
       "      <td>...</td>\n",
       "      <td>0</td>\n",
       "      <td>0</td>\n",
       "      <td>0</td>\n",
       "      <td>0</td>\n",
       "      <td>0</td>\n",
       "      <td>1</td>\n",
       "      <td>0</td>\n",
       "      <td>0</td>\n",
       "      <td>0</td>\n",
       "      <td>0</td>\n",
       "    </tr>\n",
       "    <tr>\n",
       "      <th>2</th>\n",
       "      <td>61</td>\n",
       "      <td>268831</td>\n",
       "      <td>9</td>\n",
       "      <td>0</td>\n",
       "      <td>0</td>\n",
       "      <td>53</td>\n",
       "      <td>0</td>\n",
       "      <td>0</td>\n",
       "      <td>0</td>\n",
       "      <td>0</td>\n",
       "      <td>...</td>\n",
       "      <td>0</td>\n",
       "      <td>0</td>\n",
       "      <td>0</td>\n",
       "      <td>0</td>\n",
       "      <td>0</td>\n",
       "      <td>0</td>\n",
       "      <td>0</td>\n",
       "      <td>1</td>\n",
       "      <td>0</td>\n",
       "      <td>0</td>\n",
       "    </tr>\n",
       "    <tr>\n",
       "      <th>3</th>\n",
       "      <td>48</td>\n",
       "      <td>238360</td>\n",
       "      <td>13</td>\n",
       "      <td>0</td>\n",
       "      <td>0</td>\n",
       "      <td>40</td>\n",
       "      <td>0</td>\n",
       "      <td>0</td>\n",
       "      <td>1</td>\n",
       "      <td>0</td>\n",
       "      <td>...</td>\n",
       "      <td>0</td>\n",
       "      <td>0</td>\n",
       "      <td>0</td>\n",
       "      <td>0</td>\n",
       "      <td>0</td>\n",
       "      <td>1</td>\n",
       "      <td>0</td>\n",
       "      <td>0</td>\n",
       "      <td>0</td>\n",
       "      <td>0</td>\n",
       "    </tr>\n",
       "    <tr>\n",
       "      <th>4</th>\n",
       "      <td>20</td>\n",
       "      <td>199011</td>\n",
       "      <td>10</td>\n",
       "      <td>0</td>\n",
       "      <td>0</td>\n",
       "      <td>12</td>\n",
       "      <td>0</td>\n",
       "      <td>0</td>\n",
       "      <td>0</td>\n",
       "      <td>0</td>\n",
       "      <td>...</td>\n",
       "      <td>0</td>\n",
       "      <td>0</td>\n",
       "      <td>0</td>\n",
       "      <td>0</td>\n",
       "      <td>0</td>\n",
       "      <td>1</td>\n",
       "      <td>0</td>\n",
       "      <td>0</td>\n",
       "      <td>0</td>\n",
       "      <td>0</td>\n",
       "    </tr>\n",
       "  </tbody>\n",
       "</table>\n",
       "<p>5 rows × 108 columns</p>\n",
       "</div>"
      ]
     },
     "metadata": {},
     "execution_count": 11
    }
   ],
   "metadata": {}
  },
  {
   "cell_type": "markdown",
   "source": [
    "## Splitting Training and Testing Data"
   ],
   "metadata": {}
  },
  {
   "cell_type": "code",
   "execution_count": 12,
   "source": [
    "X = df.drop('y', axis=1)\r\n",
    "y = df.y.values\r\n",
    "\r\n",
    "x_train, x_test, y_train, y_test = train_test_split(X, y, test_size=0.20, random_state=0)"
   ],
   "outputs": [],
   "metadata": {}
  },
  {
   "cell_type": "markdown",
   "source": [
    "## Building Logistic Regression Model\r\n",
    "\r\n",
    "Building a logistic regression model with recursive feature elimination (RFE) to select the most important features.\r\n",
    "\r\n",
    "### Feature Selection using RFE"
   ],
   "metadata": {}
  },
  {
   "cell_type": "code",
   "execution_count": 13,
   "source": [
    "logRegModel = LogisticRegression(max_iter=10000)\r\n",
    "logRegModel_features = getRFEfeatures(logRegModel, X, y, 50)\r\n"
   ],
   "outputs": [
    {
     "output_type": "stream",
     "name": "stderr",
     "text": [
      "C:\\Users\\edmun\\anaconda3\\lib\\site-packages\\sklearn\\utils\\validation.py:67: FutureWarning:\n",
      "\n",
      "Pass n_features_to_select=50 as keyword args. From version 0.25 passing these as positional arguments will result in an error\n",
      "\n"
     ]
    },
    {
     "output_type": "stream",
     "name": "stdout",
     "text": [
      "Selected features: ['f7', ' Amer-Indian-Eskimo', ' Asian-Pac-Islander', ' Black', ' Other', ' White', ' Female', ' Male', ' 11th', ' 12th', ' 1st-4th', ' 5th-6th', ' 9th', ' Assoc-acdm', ' Assoc-voc', ' Bachelors', ' Doctorate', ' HS-grad', ' Prof-school', ' Some-college', 'a_0', 'a_2', 'a_3', 'a_4', 'a_5', 'a_6', 'b_0', 'b_1', 'b_12', 'b_14', 'b_3', 'b_4', 'b_5', 'b_6', 'b_7', 'b_8', 'b_9', 'c_1', 'c_2', 'c_3', 'c_5', 'd_0', 'd_26', 'd_33', 'd_39', 'e_0', 'e_1', 'e_5', 'e_6', 'e_7']\n"
     ]
    }
   ],
   "metadata": {}
  },
  {
   "cell_type": "code",
   "execution_count": 14,
   "source": [
    "x_train_LR = x_train[logRegModel_features]\r\n",
    "x_test_LR = x_test[logRegModel_features]"
   ],
   "outputs": [],
   "metadata": {}
  },
  {
   "cell_type": "markdown",
   "source": [
    "## Logistic Regression Model Building and Fitting"
   ],
   "metadata": {}
  },
  {
   "cell_type": "code",
   "execution_count": 15,
   "source": [
    "logRegModel = LogisticRegression(max_iter=10000)\r\n",
    "logRegModel.fit(x_train_LR, y_train)"
   ],
   "outputs": [
    {
     "output_type": "execute_result",
     "data": {
      "text/plain": [
       "LogisticRegression(max_iter=10000)"
      ]
     },
     "metadata": {},
     "execution_count": 15
    }
   ],
   "metadata": {}
  },
  {
   "cell_type": "markdown",
   "source": [
    "## Results for Logistics Regression Model\r\n",
    "\r\n",
    "### Classification Report for Train Data"
   ],
   "metadata": {}
  },
  {
   "cell_type": "code",
   "execution_count": 16,
   "source": [
    "print_train_score(logRegModel, x_train_LR,y_train)"
   ],
   "outputs": [
    {
     "output_type": "stream",
     "name": "stdout",
     "text": [
      "Train Result:\n",
      "================================================\n",
      "Accuracy Score: 83.22%\n",
      "_______________________________________________\n",
      "CLASSIFICATION REPORT:\n",
      "                      0            1  accuracy     macro avg  weighted avg\n",
      "precision      0.864090     0.695219  0.832172      0.779655      0.823287\n",
      "recall         0.924041     0.543825  0.832172      0.733933      0.832172\n",
      "f1-score       0.893061     0.610273  0.832172      0.751667      0.824733\n",
      "support    16114.000000  5134.000000  0.832172  21248.000000  21248.000000\n",
      "_______________________________________________\n",
      "Confusion Matrix: \n",
      " [[14890  1224]\n",
      " [ 2342  2792]]\n",
      "\n",
      "_______________________________________________\n",
      "[0.71049526 0.83641746 0.05514418 ... 0.2780625  0.00336335 0.14759615]\n",
      "AUC Score: \n",
      " 0.8798386015127221\n",
      "\n"
     ]
    }
   ],
   "metadata": {}
  },
  {
   "cell_type": "markdown",
   "source": [
    "### Classification Report for Test Data"
   ],
   "metadata": {}
  },
  {
   "cell_type": "code",
   "execution_count": 17,
   "source": [
    "print_test_score(logRegModel, x_test_LR,y_test)"
   ],
   "outputs": [
    {
     "output_type": "stream",
     "name": "stdout",
     "text": [
      "Test Result:\n",
      "================================================\n",
      "Accuracy Score: 83.63%\n",
      "_______________________________________________\n",
      "CLASSIFICATION REPORT:\n",
      "                     0            1  accuracy    macro avg  weighted avg\n",
      "precision     0.871872     0.682046  0.836251     0.776959      0.827819\n",
      "recall        0.922304     0.551500  0.836251     0.736902      0.836251\n",
      "f1-score      0.896379     0.609865  0.836251     0.753122      0.829887\n",
      "support    4080.000000  1233.000000  0.836251  5313.000000   5313.000000\n",
      "_______________________________________________\n",
      "Confusion Matrix: \n",
      " [[3763  317]\n",
      " [ 553  680]]\n",
      "\n",
      "_______________________________________________\n",
      "[0.01344695 0.04286195 0.01912045 ... 0.34165605 0.00854516 0.00654709]\n",
      "AUC Score: \n",
      " 0.8812271400855558\n",
      "\n"
     ]
    }
   ],
   "metadata": {}
  },
  {
   "cell_type": "code",
   "execution_count": 18,
   "source": [
    "get_auc(logRegModel, x_train_LR, y_train)"
   ],
   "outputs": [
    {
     "output_type": "stream",
     "name": "stdout",
     "text": [
      "[0.71049526 0.83641746 0.05514418 ... 0.2780625  0.00336335 0.14759615]\n"
     ]
    },
    {
     "output_type": "execute_result",
     "data": {
      "text/plain": [
       "0.8798386015127221"
      ]
     },
     "metadata": {},
     "execution_count": 18
    }
   ],
   "metadata": {}
  },
  {
   "cell_type": "markdown",
   "source": [
    "## Support Vector Machine\r\n",
    "\r\n"
   ],
   "metadata": {}
  },
  {
   "cell_type": "code",
   "execution_count": 19,
   "source": [
    "scaling = MinMaxScaler(feature_range=(-1,1)).fit(x_train)\r\n",
    "x_train_svm = scaling.transform(x_train)\r\n",
    "x_test_svm = scaling.transform(x_test)"
   ],
   "outputs": [],
   "metadata": {}
  },
  {
   "cell_type": "markdown",
   "source": [
    "### Linear SVM"
   ],
   "metadata": {}
  },
  {
   "cell_type": "code",
   "execution_count": 20,
   "source": [
    "linearSVM = LinearSVC(loss='hinge', dual=True,max_iter=1000000)\r\n",
    "linearSVM.fit(x_train_svm,y_train)\r\n"
   ],
   "outputs": [
    {
     "output_type": "execute_result",
     "data": {
      "text/plain": [
       "LinearSVC(loss='hinge', max_iter=1000000)"
      ]
     },
     "metadata": {},
     "execution_count": 20
    }
   ],
   "metadata": {}
  },
  {
   "cell_type": "code",
   "execution_count": 21,
   "source": [
    "print_train_score(linearSVM, x_train_svm, y_train, auc=False)"
   ],
   "outputs": [
    {
     "output_type": "stream",
     "name": "stdout",
     "text": [
      "Train Result:\n",
      "================================================\n",
      "Accuracy Score: 85.13%\n",
      "_______________________________________________\n",
      "CLASSIFICATION REPORT:\n",
      "                      0            1  accuracy     macro avg  weighted avg\n",
      "precision      0.875878     0.745953  0.851327      0.810915      0.844485\n",
      "recall         0.936701     0.583366  0.851327      0.760033      0.851327\n",
      "f1-score       0.905269     0.654716  0.851327      0.779993      0.844730\n",
      "support    16114.000000  5134.000000  0.851327  21248.000000  21248.000000\n",
      "_______________________________________________\n",
      "Confusion Matrix: \n",
      " [[15094  1020]\n",
      " [ 2139  2995]]\n",
      "\n"
     ]
    }
   ],
   "metadata": {}
  },
  {
   "cell_type": "code",
   "execution_count": 22,
   "source": [
    "print_test_score(linearSVM, x_test_svm, y_test, auc=False)"
   ],
   "outputs": [
    {
     "output_type": "stream",
     "name": "stdout",
     "text": [
      "Test Result:\n",
      "================================================\n",
      "Accuracy Score: 86.05%\n",
      "_______________________________________________\n",
      "CLASSIFICATION REPORT:\n",
      "                     0            1  accuracy    macro avg  weighted avg\n",
      "precision     0.886906     0.746493  0.860531     0.816700      0.854320\n",
      "recall        0.937990     0.604217  0.860531     0.771104      0.860531\n",
      "f1-score      0.911733     0.667862  0.860531     0.789798      0.855137\n",
      "support    4080.000000  1233.000000  0.860531  5313.000000   5313.000000\n",
      "_______________________________________________\n",
      "Confusion Matrix: \n",
      " [[3827  253]\n",
      " [ 488  745]]\n",
      "\n"
     ]
    }
   ],
   "metadata": {}
  },
  {
   "cell_type": "markdown",
   "source": [
    "## Polynomial Kernel SVM"
   ],
   "metadata": {}
  },
  {
   "cell_type": "code",
   "execution_count": 23,
   "source": [
    "polynomialSVM = SVC(kernel=\"poly\")\r\n",
    "polynomialSVM.fit(x_train_svm,y_train)"
   ],
   "outputs": [
    {
     "output_type": "execute_result",
     "data": {
      "text/plain": [
       "SVC(kernel='poly')"
      ]
     },
     "metadata": {},
     "execution_count": 23
    }
   ],
   "metadata": {}
  },
  {
   "cell_type": "code",
   "execution_count": 24,
   "source": [
    "print_train_score(polynomialSVM, x_train_svm, y_train, auc=False)"
   ],
   "outputs": [
    {
     "output_type": "stream",
     "name": "stdout",
     "text": [
      "Train Result:\n",
      "================================================\n",
      "Accuracy Score: 86.93%\n",
      "_______________________________________________\n",
      "CLASSIFICATION REPORT:\n",
      "                      0            1  accuracy     macro avg  weighted avg\n",
      "precision      0.892011     0.778145  0.869305      0.835078      0.864498\n",
      "recall         0.941666     0.642189  0.869305      0.791927      0.869305\n",
      "f1-score       0.916166     0.703660  0.869305      0.809913      0.864820\n",
      "support    16114.000000  5134.000000  0.869305  21248.000000  21248.000000\n",
      "_______________________________________________\n",
      "Confusion Matrix: \n",
      " [[15174   940]\n",
      " [ 1837  3297]]\n",
      "\n"
     ]
    }
   ],
   "metadata": {}
  },
  {
   "cell_type": "code",
   "execution_count": 25,
   "source": [
    "print_test_score(polynomialSVM, x_test_svm, y_test, auc=False)"
   ],
   "outputs": [
    {
     "output_type": "stream",
     "name": "stdout",
     "text": [
      "Test Result:\n",
      "================================================\n",
      "Accuracy Score: 85.92%\n",
      "_______________________________________________\n",
      "CLASSIFICATION REPORT:\n",
      "                     0            1  accuracy    macro avg  weighted avg\n",
      "precision     0.889616     0.733848  0.859213     0.811732      0.853467\n",
      "recall        0.932353     0.617194  0.859213     0.774773      0.859213\n",
      "f1-score      0.910483     0.670485  0.859213     0.790484      0.854786\n",
      "support    4080.000000  1233.000000  0.859213  5313.000000   5313.000000\n",
      "_______________________________________________\n",
      "Confusion Matrix: \n",
      " [[3804  276]\n",
      " [ 472  761]]\n",
      "\n"
     ]
    }
   ],
   "metadata": {}
  },
  {
   "cell_type": "markdown",
   "source": [
    "## Radial Kernel SVM"
   ],
   "metadata": {}
  },
  {
   "cell_type": "code",
   "execution_count": 26,
   "source": [
    "rbfSVM = SVC(kernel=\"rbf\")\r\n",
    "rbfSVM.fit(x_train_svm,y_train)"
   ],
   "outputs": [
    {
     "output_type": "execute_result",
     "data": {
      "text/plain": [
       "SVC()"
      ]
     },
     "metadata": {},
     "execution_count": 26
    }
   ],
   "metadata": {}
  },
  {
   "cell_type": "code",
   "execution_count": 27,
   "source": [
    "print_train_score(rbfSVM, x_train_svm, y_train, auc=False)"
   ],
   "outputs": [
    {
     "output_type": "stream",
     "name": "stdout",
     "text": [
      "Train Result:\n",
      "================================================\n",
      "Accuracy Score: 84.48%\n",
      "_______________________________________________\n",
      "CLASSIFICATION REPORT:\n",
      "                      0            1  accuracy     macro avg  weighted avg\n",
      "precision      0.870626     0.732120  0.844832      0.801373      0.837160\n",
      "recall         0.934219     0.564277  0.844832      0.749248      0.844832\n",
      "f1-score       0.901302     0.637334  0.844832      0.769318      0.837521\n",
      "support    16114.000000  5134.000000  0.844832  21248.000000  21248.000000\n",
      "_______________________________________________\n",
      "Confusion Matrix: \n",
      " [[15054  1060]\n",
      " [ 2237  2897]]\n",
      "\n"
     ]
    }
   ],
   "metadata": {}
  },
  {
   "cell_type": "code",
   "execution_count": 28,
   "source": [
    "print_test_score(rbfSVM, x_test_svm, y_test, auc=False)"
   ],
   "outputs": [
    {
     "output_type": "stream",
     "name": "stdout",
     "text": [
      "Test Result:\n",
      "================================================\n",
      "Accuracy Score: 84.34%\n",
      "_______________________________________________\n",
      "CLASSIFICATION REPORT:\n",
      "                     0            1  accuracy    macro avg  weighted avg\n",
      "precision     0.873849     0.706914  0.843403     0.790382      0.835108\n",
      "recall        0.930392     0.555556  0.843403     0.742974      0.843403\n",
      "f1-score      0.901235     0.622162  0.843403     0.761698      0.836469\n",
      "support    4080.000000  1233.000000  0.843403  5313.000000   5313.000000\n",
      "_______________________________________________\n",
      "Confusion Matrix: \n",
      " [[3796  284]\n",
      " [ 548  685]]\n",
      "\n"
     ]
    }
   ],
   "metadata": {}
  },
  {
   "cell_type": "markdown",
   "source": [
    "## Adaboost"
   ],
   "metadata": {}
  },
  {
   "cell_type": "code",
   "execution_count": 30,
   "source": [
    "adaRFE = AdaBoostClassifier(n_estimators=100,random_state=0)\r\n",
    "ada_features = getRFEfeatures(adaRFE, X, y, 50)"
   ],
   "outputs": [
    {
     "output_type": "stream",
     "name": "stderr",
     "text": [
      "C:\\Users\\edmun\\anaconda3\\lib\\site-packages\\sklearn\\utils\\validation.py:67: FutureWarning:\n",
      "\n",
      "Pass n_features_to_select=50 as keyword args. From version 0.25 passing these as positional arguments will result in an error\n",
      "\n"
     ]
    },
    {
     "output_type": "stream",
     "name": "stdout",
     "text": [
      "Selected features: ['age', 'f6', 'f7', 'f8', 'f9', 'f10', ' Amer-Indian-Eskimo', ' Asian-Pac-Islander', ' Black', ' Other', ' White', ' Female', ' Male', ' Bachelors', ' HS-grad', ' Masters', 'a_1', 'a_2', 'a_6', 'b_0', 'b_1', 'b_10', 'b_11', 'b_12', 'b_13', 'b_4', 'b_5', 'b_6', 'b_7', 'b_8', 'b_9', 'c_0', 'c_1', 'c_2', 'c_3', 'c_4', 'c_5', 'd_0', 'd_1', 'd_22', 'd_7', 'd_8', 'd_9', 'e_0', 'e_1', 'e_2', 'e_3', 'e_4', 'e_5', 'e_6']\n"
     ]
    }
   ],
   "metadata": {}
  },
  {
   "cell_type": "code",
   "execution_count": 58,
   "source": [
    "x_train_ada = x_train[ada_features]\r\n",
    "x_test_ada = x_test[ada_features]"
   ],
   "outputs": [],
   "metadata": {}
  },
  {
   "cell_type": "code",
   "execution_count": 59,
   "source": [
    "ada = AdaBoostClassifier(n_estimators=100,random_state=0)\r\n",
    "ada.fit(x_train_ada, y_train)"
   ],
   "outputs": [
    {
     "output_type": "execute_result",
     "data": {
      "text/plain": [
       "AdaBoostClassifier(n_estimators=100, random_state=0)"
      ]
     },
     "metadata": {},
     "execution_count": 59
    }
   ],
   "metadata": {}
  },
  {
   "cell_type": "code",
   "execution_count": 61,
   "source": [
    "print_train_score(ada, x_train_ada,y_train)"
   ],
   "outputs": [
    {
     "output_type": "stream",
     "name": "stdout",
     "text": [
      "Train Result:\n",
      "================================================\n",
      "Accuracy Score: 86.47%\n",
      "_______________________________________________\n",
      "CLASSIFICATION REPORT:\n",
      "                      0            1  accuracy     macro avg  weighted avg\n",
      "precision      0.887135     0.772420   0.86474      0.829777      0.859417\n",
      "recall         0.941417     0.624075   0.86474      0.782746      0.864740\n",
      "f1-score       0.913470     0.690368   0.86474      0.801919      0.859564\n",
      "support    16114.000000  5134.000000   0.86474  21248.000000  21248.000000\n",
      "_______________________________________________\n",
      "Confusion Matrix: \n",
      " [[15170   944]\n",
      " [ 1930  3204]]\n",
      "\n",
      "_______________________________________________\n",
      "[0.50302379 0.50361685 0.48960574 ... 0.49460401 0.47957197 0.4922542 ]\n",
      "AUC Score: \n",
      " 0.9225629812111495\n",
      "\n"
     ]
    }
   ],
   "metadata": {}
  },
  {
   "cell_type": "code",
   "execution_count": 62,
   "source": [
    "print_test_score(ada, x_test_ada,y_test)"
   ],
   "outputs": [
    {
     "output_type": "stream",
     "name": "stdout",
     "text": [
      "Test Result:\n",
      "================================================\n",
      "Accuracy Score: 87.35%\n",
      "_______________________________________________\n",
      "CLASSIFICATION REPORT:\n",
      "                     0            1  accuracy    macro avg  weighted avg\n",
      "precision     0.893897     0.784195  0.873518     0.839046      0.868438\n",
      "recall        0.947794     0.627737  0.873518     0.787766      0.873518\n",
      "f1-score      0.920057     0.697297  0.873518     0.808677      0.868361\n",
      "support    4080.000000  1233.000000  0.873518  5313.000000   5313.000000\n",
      "_______________________________________________\n",
      "Confusion Matrix: \n",
      " [[3867  213]\n",
      " [ 459  774]]\n",
      "\n",
      "_______________________________________________\n",
      "[0.48831676 0.49124126 0.4880783  ... 0.50016367 0.48410922 0.48037058]\n",
      "AUC Score: \n",
      " 0.9262318512157499\n",
      "\n"
     ]
    }
   ],
   "metadata": {}
  },
  {
   "cell_type": "markdown",
   "source": [
    "## Hyperparameter tuning for Adaboost using GridSearchCV"
   ],
   "metadata": {}
  },
  {
   "cell_type": "code",
   "execution_count": 56,
   "source": [
    "ada_tuned = AdaBoostClassifier()\r\n",
    "\r\n",
    "grid = dict()\r\n",
    "grid['n_estimators'] = [10, 50, 100, 500, 1000, 2000]\r\n",
    "grid['learning_rate'] = [0.0001, 0.001, 0.01, 0.1, 1.0]\r\n",
    "\r\n",
    "cv = RepeatedStratifiedKFold(n_splits=10, n_repeats=3, random_state=1)\r\n",
    "\r\n",
    "grid_search = GridSearchCV(estimator=ada_tuned, param_grid=grid, n_jobs=-1, cv=cv, scoring='accuracy')\r\n",
    "\r\n",
    "grid_result = grid_search.fit(x_train_ada, y_train)\r\n",
    "\r\n",
    "print(\"Best: %f using %s\" % (grid_result.best_score_, grid_result.best_params_))"
   ],
   "outputs": [
    {
     "output_type": "stream",
     "name": "stdout",
     "text": [
      "Best: 0.868615 using {'learning_rate': 1.0, 'n_estimators': 1000}\n"
     ]
    }
   ],
   "metadata": {}
  },
  {
   "cell_type": "code",
   "execution_count": 68,
   "source": [
    "ada_tuned = grid_result.best_estimator_\r\n",
    "print_test_score(ada_tuned, x_test_ada,y_test)"
   ],
   "outputs": [
    {
     "output_type": "stream",
     "name": "stdout",
     "text": [
      "Test Result:\n",
      "================================================\n",
      "Accuracy Score: 88.07%\n",
      "_______________________________________________\n",
      "CLASSIFICATION REPORT:\n",
      "                     0            1  accuracy    macro avg  weighted avg\n",
      "precision     0.901632     0.792766   0.88067     0.847199      0.876367\n",
      "recall        0.948039     0.657745   0.88067     0.802892      0.880670\n",
      "f1-score      0.924253     0.718972   0.88067     0.821612      0.876613\n",
      "support    4080.000000  1233.000000   0.88067  5313.000000   5313.000000\n",
      "_______________________________________________\n",
      "Confusion Matrix: \n",
      " [[3868  212]\n",
      " [ 422  811]]\n",
      "\n",
      "_______________________________________________\n",
      "[0.49875252 0.49897431 0.4988345  ... 0.49999985 0.49835283 0.49819099]\n",
      "AUC Score: \n",
      " 0.9328135187570568\n",
      "\n"
     ]
    }
   ],
   "metadata": {}
  }
 ],
 "metadata": {
  "orig_nbformat": 4,
  "language_info": {
   "name": "python",
   "version": "3.8.5",
   "mimetype": "text/x-python",
   "codemirror_mode": {
    "name": "ipython",
    "version": 3
   },
   "pygments_lexer": "ipython3",
   "nbconvert_exporter": "python",
   "file_extension": ".py"
  },
  "kernelspec": {
   "name": "python3",
   "display_name": "Python 3.8.5 64-bit ('base': conda)"
  },
  "interpreter": {
   "hash": "b3eae607148ff0a599e70772c0f7727589d0b1beea087ab41fc4f7f594d8e05a"
  }
 },
 "nbformat": 4,
 "nbformat_minor": 2
}